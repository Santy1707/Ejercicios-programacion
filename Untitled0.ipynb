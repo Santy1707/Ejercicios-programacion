{
  "nbformat": 4,
  "nbformat_minor": 0,
  "metadata": {
    "colab": {
      "provenance": [],
      "toc_visible": true,
      "authorship_tag": "ABX9TyMZIAe3LZAdUpIvrY5LKXsP",
      "include_colab_link": true
    },
    "kernelspec": {
      "name": "python3",
      "display_name": "Python 3"
    },
    "language_info": {
      "name": "python"
    }
  },
  "cells": [
    {
      "cell_type": "markdown",
      "metadata": {
        "id": "view-in-github",
        "colab_type": "text"
      },
      "source": [
        "<a href=\"https://colab.research.google.com/github/Santy1707/Ejercicios-programacion/blob/main/Untitled0.ipynb\" target=\"_parent\"><img src=\"https://colab.research.google.com/assets/colab-badge.svg\" alt=\"Open In Colab\"/></a>"
      ]
    },
    {
      "cell_type": "code",
      "source": [
        "a = \"Pepito perez\"\n",
        "a = a.replace(\"perez\", \"lopez\")\n",
        "print(a)"
      ],
      "metadata": {
        "colab": {
          "base_uri": "https://localhost:8080/"
        },
        "id": "7IMC6H2qJvzM",
        "outputId": "43455225-ab1e-4e0a-c1ef-4c8f1e93e9c4"
      },
      "execution_count": null,
      "outputs": [
        {
          "output_type": "stream",
          "name": "stdout",
          "text": [
            "Pepito lopez\n"
          ]
        }
      ]
    },
    {
      "cell_type": "code",
      "source": [
        "#Estructura condicional#\n",
        "a = -3\n",
        "if a > 0:\n",
        "  print(f\"{a} es un numero positivo\")\n",
        "elif a == 0:\n",
        "  print(f\"{a} es considerado neutro, es decir: Ni positivo ni negativo\")\n",
        "else :\n",
        "  print(f\"{a} es un numero negativo\")"
      ],
      "metadata": {
        "colab": {
          "base_uri": "https://localhost:8080/"
        },
        "id": "CXF7y8OiKI3G",
        "outputId": "59e3407b-4c7a-4d1a-d786-4f42e9236d4b"
      },
      "execution_count": null,
      "outputs": [
        {
          "output_type": "stream",
          "name": "stdout",
          "text": [
            "-3 es un numero negativo\n"
          ]
        }
      ]
    },
    {
      "cell_type": "code",
      "source": [
        "a = (input(\"Digite el primer dato \\n\"))\n",
        "if ord(a[0]) < 48 or ord(a[0]) > 57:\n",
        "  print(\"Debe digitar un valor numerico\")\n",
        "  print(a)\n",
        "else:\n",
        "  a = float(a)\n",
        "\n",
        "b = float(input(\"Digite el segundo dato \\n\"))\n",
        "if a > b:\n",
        "  print(f\"{a} es mayor que {b}\")\n",
        "elif a == b:\n",
        "  print(f\"{a} es igual a {b}\")\n",
        "else:\n",
        "  print(f\"{a} es menor que {b}\")\n",
        "\n",
        "print(type(a),type(b))\n"
      ],
      "metadata": {
        "colab": {
          "base_uri": "https://localhost:8080/"
        },
        "id": "madapEIwLnTd",
        "outputId": "a323e441-de16-4b9e-ef3b-6326c235ea4e"
      },
      "execution_count": null,
      "outputs": [
        {
          "output_type": "stream",
          "name": "stdout",
          "text": [
            "Digite el primer dato \n",
            "5\n",
            "Digite el primer dato \n",
            "8\n",
            "5.0 es menor que 8.0\n",
            "<class 'float'> <class 'float'>\n"
          ]
        }
      ]
    },
    {
      "cell_type": "code",
      "source": [
        "n = 0\n",
        "\n",
        "if n%2 == 0:\n",
        "  print(\"El número es par\")\n",
        "else:\n",
        "  print(\"El número es impar\")\n",
        "\n"
      ],
      "metadata": {
        "colab": {
          "base_uri": "https://localhost:8080/"
        },
        "id": "BTygcJO_L2Bv",
        "outputId": "beafaf44-1993-4702-8a3e-f99ff81d36d9"
      },
      "execution_count": null,
      "outputs": [
        {
          "output_type": "stream",
          "name": "stdout",
          "text": [
            "El número es par\n"
          ]
        }
      ]
    },
    {
      "cell_type": "code",
      "source": [
        "palabra = \"hola\"\n",
        "if \"a\" in palabra:\n",
        "  print(\"La letra 'a' esta en la palabra.\")"
      ],
      "metadata": {
        "colab": {
          "base_uri": "https://localhost:8080/"
        },
        "id": "bu734sMsO42u",
        "outputId": "a663bbb6-c597-47ea-c9c5-4d7226f45ba8"
      },
      "execution_count": null,
      "outputs": [
        {
          "output_type": "stream",
          "name": "stdout",
          "text": [
            "La letra 'a' esta en la palabra.\n"
          ]
        }
      ]
    },
    {
      "cell_type": "code",
      "source": [
        "x = \"a\"\n",
        "y = \"a\"\n",
        "if x is y:\n",
        "  print(\"x y y apuntan al mismo objetivo.\")"
      ],
      "metadata": {
        "colab": {
          "base_uri": "https://localhost:8080/"
        },
        "id": "qffXf_usPf7f",
        "outputId": "297db67e-735b-4668-9a44-48d813fadf50"
      },
      "execution_count": null,
      "outputs": [
        {
          "output_type": "stream",
          "name": "stdout",
          "text": [
            "x y y apuntan al mismo objetivo.\n"
          ]
        }
      ]
    },
    {
      "cell_type": "code",
      "source": [
        "numeros = [1, 2, 3, 4, 5]\n",
        "for i in numeros:\n",
        "  print(i)"
      ],
      "metadata": {
        "colab": {
          "base_uri": "https://localhost:8080/"
        },
        "id": "Zlp6LBXWP09C",
        "outputId": "a5d62f0c-5de3-4a01-f19f-e78fe7566774"
      },
      "execution_count": null,
      "outputs": [
        {
          "output_type": "stream",
          "name": "stdout",
          "text": [
            "1\n",
            "2\n",
            "3\n",
            "4\n",
            "5\n"
          ]
        }
      ]
    },
    {
      "cell_type": "code",
      "source": [
        "palabra = \"Pepito Perez\"\n",
        "for i in palabra:\n",
        "  print(i)"
      ],
      "metadata": {
        "colab": {
          "base_uri": "https://localhost:8080/"
        },
        "id": "80kZAe3nQrGK",
        "outputId": "5ab4c034-37a8-4d60-cee2-133ba0ebc6a2"
      },
      "execution_count": null,
      "outputs": [
        {
          "output_type": "stream",
          "name": "stdout",
          "text": [
            "P\n",
            "e\n",
            "p\n",
            "i\n",
            "t\n",
            "o\n",
            " \n",
            "P\n",
            "e\n",
            "r\n",
            "e\n",
            "z\n"
          ]
        }
      ]
    },
    {
      "cell_type": "code",
      "source": [
        "for i in range(5):\n",
        "  print(i)"
      ],
      "metadata": {
        "colab": {
          "base_uri": "https://localhost:8080/"
        },
        "id": "Wp4q5qabRQjW",
        "outputId": "a2c917c0-a5fd-493f-e1df-b98766bd6fe6"
      },
      "execution_count": null,
      "outputs": [
        {
          "output_type": "stream",
          "name": "stdout",
          "text": [
            "0\n",
            "1\n",
            "2\n",
            "3\n",
            "4\n"
          ]
        }
      ]
    },
    {
      "cell_type": "code",
      "source": [
        "for i in range (-5, 2):\n",
        "  print(i, end=\" \")"
      ],
      "metadata": {
        "colab": {
          "base_uri": "https://localhost:8080/"
        },
        "id": "J2aKR6mIRbt6",
        "outputId": "efb02b78-ce2a-4058-91a1-87ad708e5fa6"
      },
      "execution_count": null,
      "outputs": [
        {
          "output_type": "stream",
          "name": "stdout",
          "text": [
            "-5 -4 -3 -2 -1 0 1 "
          ]
        }
      ]
    },
    {
      "cell_type": "code",
      "source": [
        "for i in range(-5,2,2):\n",
        "  print(i, end=\" \")"
      ],
      "metadata": {
        "colab": {
          "base_uri": "https://localhost:8080/"
        },
        "id": "oSu4zILaRbi0",
        "outputId": "c8a2171c-b521-40d2-8d3d-6d73361bcb88"
      },
      "execution_count": null,
      "outputs": [
        {
          "output_type": "stream",
          "name": "stdout",
          "text": [
            "-5 -3 -1 1 "
          ]
        }
      ]
    },
    {
      "cell_type": "code",
      "source": [
        "a =[0, 1, 2, 3, 4, 5]\n",
        "for i, letra in enumerate(a):\n",
        "  print(f\"indice {i}: {letra}\")"
      ],
      "metadata": {
        "colab": {
          "base_uri": "https://localhost:8080/"
        },
        "id": "xLhK_jKoSQcv",
        "outputId": "5ff960bb-8269-4e46-b228-ca4a0bdac7d4"
      },
      "execution_count": null,
      "outputs": [
        {
          "output_type": "stream",
          "name": "stdout",
          "text": [
            "indice 0: 0\n",
            "indice 1: 1\n",
            "indice 2: 2\n",
            "indice 3: 3\n",
            "indice 4: 4\n",
            "indice 5: 5\n"
          ]
        }
      ]
    },
    {
      "cell_type": "code",
      "source": [
        "for i, letra in enumerate(\"Python\"):\n",
        "  print(f\"indice {i}: {letra}\")"
      ],
      "metadata": {
        "colab": {
          "base_uri": "https://localhost:8080/"
        },
        "id": "4ANh8aNoSwqb",
        "outputId": "704edbdf-f7bf-4d36-f116-37b2ad0ebb15"
      },
      "execution_count": null,
      "outputs": [
        {
          "output_type": "stream",
          "name": "stdout",
          "text": [
            "indice 0: P\n",
            "indice 1: y\n",
            "indice 2: t\n",
            "indice 3: h\n",
            "indice 4: o\n",
            "indice 5: n\n"
          ]
        }
      ]
    },
    {
      "cell_type": "code",
      "source": [
        "a = 10\n",
        "while a > 5:\n",
        "  print(\"Siempre en este bucle\")\n",
        "  print(a)\n",
        "  a -= 1"
      ],
      "metadata": {
        "colab": {
          "base_uri": "https://localhost:8080/"
        },
        "id": "P0JxcaMcTMJP",
        "outputId": "62d649f9-e5a2-4324-ecd0-bcdec92896e5"
      },
      "execution_count": null,
      "outputs": [
        {
          "output_type": "stream",
          "name": "stdout",
          "text": [
            "Siempre en este bucle\n",
            "10\n",
            "Siempre en este bucle\n",
            "9\n",
            "Siempre en este bucle\n",
            "8\n",
            "Siempre en este bucle\n",
            "7\n",
            "Siempre en este bucle\n",
            "6\n"
          ]
        }
      ]
    },
    {
      "cell_type": "code",
      "source": [
        "nombre = \"Pepito\"\n",
        "print(nombre[0])\n",
        "print(nombre[1])\n",
        "print(nombre[2])\n",
        "print(nombre[3])\n",
        "print(nombre[4])\n",
        "print(nombre[5])"
      ],
      "metadata": {
        "colab": {
          "base_uri": "https://localhost:8080/"
        },
        "id": "9rtFia4EUHxO",
        "outputId": "e0bcf957-5505-423f-939f-a56fb61e31e6"
      },
      "execution_count": null,
      "outputs": [
        {
          "output_type": "stream",
          "name": "stdout",
          "text": [
            "P\n",
            "e\n",
            "p\n",
            "i\n",
            "t\n",
            "o\n"
          ]
        }
      ]
    },
    {
      "cell_type": "code",
      "source": [
        "#Lista\n",
        "lista = [0, 1, 2, 3]\n",
        "print(lista)"
      ],
      "metadata": {
        "colab": {
          "base_uri": "https://localhost:8080/"
        },
        "id": "QY9TlvXkUTC6",
        "outputId": "d5a65505-66cc-4118-c5cf-d9a08898be43"
      },
      "execution_count": null,
      "outputs": [
        {
          "output_type": "stream",
          "name": "stdout",
          "text": [
            "[0, 1, 2, 3]\n"
          ]
        }
      ]
    },
    {
      "cell_type": "code",
      "source": [
        "#Lista\n",
        "lista = [0, 23.5, True, \"hola\", 4]\n",
        "print(lista)"
      ],
      "metadata": {
        "colab": {
          "base_uri": "https://localhost:8080/"
        },
        "id": "ZAoJjODwUiJ7",
        "outputId": "eb04c9ac-208e-4def-da4f-0180aa68e037"
      },
      "execution_count": null,
      "outputs": [
        {
          "output_type": "stream",
          "name": "stdout",
          "text": [
            "[0, 23.5, True, 'hola', 4]\n"
          ]
        }
      ]
    },
    {
      "cell_type": "code",
      "source": [
        "lista = [\"arroz\", \"maiz\", \"cereal\"]\n",
        "print(lista[0])\n",
        "print(lista[1])\n",
        "print(lista[2])\n",
        "print(lista[-1])"
      ],
      "metadata": {
        "colab": {
          "base_uri": "https://localhost:8080/"
        },
        "id": "6s3bA_DmUwUc",
        "outputId": "25ca8de3-1a53-4834-e7df-8148ee1d2ffb"
      },
      "execution_count": null,
      "outputs": [
        {
          "output_type": "stream",
          "name": "stdout",
          "text": [
            "arroz\n",
            "maiz\n",
            "cereal\n",
            "cereal\n"
          ]
        }
      ]
    },
    {
      "cell_type": "code",
      "source": [
        "lista = [\"arroz\", \"maiz\", \"cereal\"]\n",
        "lista[1] = \"leche\"\n",
        "print(lista)"
      ],
      "metadata": {
        "colab": {
          "base_uri": "https://localhost:8080/"
        },
        "id": "Lp-GwPIzVVKt",
        "outputId": "2fe15bca-a4b7-425e-8d6d-5b67280c713f"
      },
      "execution_count": null,
      "outputs": [
        {
          "output_type": "stream",
          "name": "stdout",
          "text": [
            "['arroz', 'leche', 'cereal']\n"
          ]
        }
      ]
    },
    {
      "cell_type": "markdown",
      "source": [
        "append siempre agrega en la última posición\n",
        "\n",
        "remove remueve el valor que nosotros le digamos"
      ],
      "metadata": {
        "id": "igtdB9yKVvy_"
      }
    },
    {
      "cell_type": "code",
      "source": [
        "lista = [\"arroz\", \"maiz\", \"cereal\"]\n",
        "lista.append(\"leche\")\n",
        "print(lista)"
      ],
      "metadata": {
        "colab": {
          "base_uri": "https://localhost:8080/"
        },
        "id": "K8o7yRrsVfDS",
        "outputId": "709c34d5-431c-447e-eb76-af5fa1004813"
      },
      "execution_count": null,
      "outputs": [
        {
          "output_type": "stream",
          "name": "stdout",
          "text": [
            "['arroz', 'maiz', 'cereal', 'leche']\n"
          ]
        }
      ]
    },
    {
      "cell_type": "code",
      "source": [
        "lista = [\"arroz\", \"maiz\", \"cereal\"]\n",
        "lista.remove(\"maiz\")\n",
        "print(lista)"
      ],
      "metadata": {
        "colab": {
          "base_uri": "https://localhost:8080/"
        },
        "id": "xBjDzqSLWIW9",
        "outputId": "c2f6dbeb-a841-4ccc-f03d-45cdefd09c74"
      },
      "execution_count": null,
      "outputs": [
        {
          "output_type": "stream",
          "name": "stdout",
          "text": [
            "['arroz', 'cereal']\n"
          ]
        }
      ]
    },
    {
      "cell_type": "markdown",
      "source": [
        "desde la posición 2 hasta la 5"
      ],
      "metadata": {
        "id": "zMpcqWc-W73M"
      }
    },
    {
      "cell_type": "code",
      "source": [
        "lista = [\"arroz\", \"maiz\", \"cereal\", \"leche\", \"galletas\"]\n",
        "print(lista[2:5])"
      ],
      "metadata": {
        "colab": {
          "base_uri": "https://localhost:8080/"
        },
        "id": "DAxZgU5NWZsB",
        "outputId": "8560d685-1244-4b26-b2ff-a18bcbdc2f1d"
      },
      "execution_count": null,
      "outputs": [
        {
          "output_type": "stream",
          "name": "stdout",
          "text": [
            "['cereal', 'leche', 'galletas']\n"
          ]
        }
      ]
    },
    {
      "cell_type": "markdown",
      "source": [
        "De la posición 2 en adelante"
      ],
      "metadata": {
        "id": "zV642bauXBok"
      }
    },
    {
      "cell_type": "code",
      "source": [
        "lista = [\"arroz\", \"maiz\", \"cereal\", \"leche\", \"galletas\"]\n",
        "print(lista[2:])"
      ],
      "metadata": {
        "colab": {
          "base_uri": "https://localhost:8080/"
        },
        "id": "1j7o_k_cW1ve",
        "outputId": "1723a849-5604-49a9-ff84-d829bdadfd60"
      },
      "execution_count": null,
      "outputs": [
        {
          "output_type": "stream",
          "name": "stdout",
          "text": [
            "['cereal', 'leche', 'galletas']\n"
          ]
        }
      ]
    },
    {
      "cell_type": "code",
      "source": [
        "lista = [\"arroz\", \"maiz\", \"cereal\", \"leche\", \"galletas\"]\n",
        "print(lista[:2])"
      ],
      "metadata": {
        "colab": {
          "base_uri": "https://localhost:8080/"
        },
        "id": "1tmz7LV5XDpE",
        "outputId": "b7c1e23e-2720-448f-9c57-5e8aa231178b"
      },
      "execution_count": null,
      "outputs": [
        {
          "output_type": "stream",
          "name": "stdout",
          "text": [
            "['arroz', 'maiz']\n"
          ]
        }
      ]
    },
    {
      "cell_type": "code",
      "source": [
        "a = int(input(\"Digite el primer dato \\n\"))\n",
        "b = int(input(\"Digite el segundo dato \\n\"))\n",
        "\n",
        "primos = []\n",
        "cont = 0\n",
        "\n",
        "for number in range(a, (b+1)):\n",
        "  if number == 1:\n",
        "    primos.append(number)\n",
        "  if number!=1:\n",
        "    for numberi in range():\n",
        "      print (f\"{number}, {numberi}\")\n",
        "      if numberi%number == 0:\n",
        "        print(\"el residuo es 1\")\n",
        "        primos.append(number)\n",
        "print(primos)"
      ],
      "metadata": {
        "colab": {
          "base_uri": "https://localhost:8080/"
        },
        "id": "XhiS7pBlXSk7",
        "outputId": "6a654b6c-fe66-4c19-97f8-27803cb245ce"
      },
      "execution_count": null,
      "outputs": [
        {
          "output_type": "stream",
          "name": "stdout",
          "text": [
            "Digite el primer dato \n",
            "1\n",
            "Digite el segundo dato \n",
            "10\n",
            "2, 0\n",
            "el residuo es 1\n",
            "2, 1\n",
            "3, 0\n",
            "el residuo es 1\n",
            "3, 1\n",
            "3, 2\n",
            "4, 0\n",
            "el residuo es 1\n",
            "4, 1\n",
            "4, 2\n",
            "4, 3\n",
            "5, 0\n",
            "el residuo es 1\n",
            "5, 1\n",
            "5, 2\n",
            "5, 3\n",
            "5, 4\n",
            "6, 0\n",
            "el residuo es 1\n",
            "6, 1\n",
            "6, 2\n",
            "6, 3\n",
            "6, 4\n",
            "6, 5\n",
            "7, 0\n",
            "el residuo es 1\n",
            "7, 1\n",
            "7, 2\n",
            "7, 3\n",
            "7, 4\n",
            "7, 5\n",
            "7, 6\n",
            "8, 0\n",
            "el residuo es 1\n",
            "8, 1\n",
            "8, 2\n",
            "8, 3\n",
            "8, 4\n",
            "8, 5\n",
            "8, 6\n",
            "8, 7\n",
            "9, 0\n",
            "el residuo es 1\n",
            "9, 1\n",
            "9, 2\n",
            "9, 3\n",
            "9, 4\n",
            "9, 5\n",
            "9, 6\n",
            "9, 7\n",
            "9, 8\n",
            "10, 0\n",
            "el residuo es 1\n",
            "10, 1\n",
            "10, 2\n",
            "10, 3\n",
            "10, 4\n",
            "10, 5\n",
            "10, 6\n",
            "10, 7\n",
            "10, 8\n",
            "10, 9\n",
            "[1, 2, 3, 4, 5, 6, 7, 8, 9, 10]\n"
          ]
        }
      ]
    }
  ]
}